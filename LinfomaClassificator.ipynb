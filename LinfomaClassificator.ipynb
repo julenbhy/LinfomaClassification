{
 "cells": [
  {
   "cell_type": "code",
   "execution_count": 1,
   "metadata": {
    "scrolled": true
   },
   "outputs": [],
   "source": [
    "#!pip install matplotlib\n",
    "#!pip install scipy\n",
    "#!pip install pip install split-folders"
   ]
  },
  {
   "cell_type": "code",
   "execution_count": 2,
   "metadata": {},
   "outputs": [
    {
     "name": "stderr",
     "output_type": "stream",
     "text": [
      "2024-05-17 00:56:20.565893: I tensorflow/core/platform/cpu_feature_guard.cc:182] This TensorFlow binary is optimized to use available CPU instructions in performance-critical operations.\n",
      "To enable the following instructions: SSE4.1 SSE4.2 AVX AVX2 AVX512F FMA, in other operations, rebuild TensorFlow with the appropriate compiler flags.\n"
     ]
    }
   ],
   "source": [
    "import os\n",
    "import numpy as np\n",
    "import matplotlib.pyplot as plt\n",
    "import tensorflow as tf\n",
    "from tensorflow.keras.layers import Input,GlobalMaxPooling2D,Dense\n",
    "from tensorflow.keras.models import Model\n",
    "from tensorflow.keras.preprocessing.image import ImageDataGenerator\n",
    "\n",
    "from utils import create_generators, build_model\n",
    "\n",
    "\n",
    "os.environ[\"CUDA_DEVICE_ORDER\"]='PCI_BUS_ID'\n",
    "os.environ[\"CUDA_VISIBLE_DEVICES\"]='1' # Select the GPU to use\n",
    "\n",
    "gpus = tf.config.list_physical_devices('GPU') # Use only the required GPU memory\n",
    "for gpu in gpus:\n",
    "    tf.config.experimental.set_memory_growth(gpu,True)"
   ]
  },
  {
   "cell_type": "markdown",
   "metadata": {},
   "source": [
    "# Configuration"
   ]
  },
  {
   "cell_type": "code",
   "execution_count": 3,
   "metadata": {},
   "outputs": [],
   "source": [
    "DATASET = './dataset'  # path to the dataset\n",
    "SPLITTED_DATASET = DATASET+'_splitted'\n",
    "\n",
    "CLASS_NAMES = np.array([item for item in os.listdir(DATASET) if os.path.isdir(os.path.join(DATASET, item))])\n",
    "NUM_CLASSES = len(CLASS_NAMES)\n",
    "\n",
    "MODEL = 'mobilenet_v2' # mobilenet_v2, resnet50, vgg16 or inception_v3\n",
    "SIZE = 224  # Image resolution\n",
    "BATCH_SIZE = 32  # size of the readed batches from generator (must fit on system memory)\n",
    "VAL_SPLIT = 0.15  # fraction of the images used for validation\n",
    "TEST_SPLIT = 0.15  # fraction of the images used for testing\n",
    "SAVED_MODEL_NAME = 'trained_'+MODEL+'_'+str(SIZE) # Name for the saved model\n",
    "\n",
    "\n",
    "\n",
    "\n",
    "# Import desired model and preprocess function\n",
    "# Could use switch if pyython>=3.10\n",
    "if MODEL == 'mobilenet_v2':\n",
    "    from tensorflow.keras.applications.mobilenet_v2 import MobileNetV2 as model, preprocess_input\n",
    "elif MODEL == 'resnet50':\n",
    "    from tensorflow.keras.applications.resnet50 import ResNet50 as model, preprocess_input\n",
    "elif MODEL == 'vgg16':\n",
    "    from tensorflow.keras.applications.vgg16 import VGG16 as model, preprocess_input\n",
    "elif MODEL == 'inception_v3':\n",
    "    from tensorflow.keras.applications.inception_v3 import InceptionV3 as model, preprocess_input\n",
    "else:\n",
    "    print('Select a valid model')\n",
    "    exit(0)"
   ]
  },
  {
   "cell_type": "markdown",
   "metadata": {},
   "source": [
    "# Image loading"
   ]
  },
  {
   "cell_type": "code",
   "execution_count": 4,
   "metadata": {},
   "outputs": [
    {
     "name": "stdout",
     "output_type": "stream",
     "text": [
      "Loading train data\n",
      "Found 2796 images belonging to 4 classes.\n",
      "Loading validation data\n",
      "Found 597 images belonging to 4 classes.\n",
      "Loading test data\n",
      "Found 604 images belonging to 4 classes.\n",
      "Images shape: (32, 224, 224, 3)\n"
     ]
    }
   ],
   "source": [
    "##########           Image generators           ##########\n",
    "\n",
    "# Just execute when you need to generate the splitted data. Comment if not.\n",
    "#import splitfolders # !pip install pip install split-folders\n",
    "#splitfolders.ratio(DATASET, seed=123, output=SPLITTED_DATASET, ratio=(1-VAL_SPLIT-TEST_SPLIT, VAL_SPLIT, TEST_SPLIT))\n",
    "\n",
    "train_generator, validation_generator, test_generator = create_generators(preprocess_input, SPLITTED_DATASET, BATCH_SIZE, SIZE)"
   ]
  },
  {
   "cell_type": "markdown",
   "metadata": {},
   "source": [
    "# Training"
   ]
  },
  {
   "cell_type": "code",
   "execution_count": 5,
   "metadata": {},
   "outputs": [
    {
     "name": "stderr",
     "output_type": "stream",
     "text": [
      "2024-05-17 00:56:31.179594: I tensorflow/core/common_runtime/gpu/gpu_device.cc:1639] Created device /job:localhost/replica:0/task:0/device:GPU:0 with 30979 MB memory:  -> device: 0, name: Tesla V100-PCIE-32GB, pci bus id: 0000:3e:00.0, compute capability: 7.0\n"
     ]
    }
   ],
   "source": [
    "##########          CNN Construction           ##########\n",
    "\n",
    "INPUT_SHAPE = (SIZE, SIZE, 3)\n",
    "\n",
    "# Build and compile the model\n",
    "model = build_model(model, INPUT_SHAPE, NUM_CLASSES)"
   ]
  },
  {
   "cell_type": "code",
   "execution_count": 6,
   "metadata": {},
   "outputs": [
    {
     "name": "stdout",
     "output_type": "stream",
     "text": [
      "Epoch 1/20\n"
     ]
    },
    {
     "name": "stderr",
     "output_type": "stream",
     "text": [
      "2024-05-17 00:56:41.375221: I tensorflow/compiler/xla/stream_executor/cuda/cuda_dnn.cc:432] Loaded cuDNN version 8907\n",
      "2024-05-17 00:56:44.657770: I tensorflow/compiler/xla/service/service.cc:168] XLA service 0x7f5d0401f140 initialized for platform CUDA (this does not guarantee that XLA will be used). Devices:\n",
      "2024-05-17 00:56:44.657833: I tensorflow/compiler/xla/service/service.cc:176]   StreamExecutor device (0): Tesla V100-PCIE-32GB, Compute Capability 7.0\n",
      "2024-05-17 00:56:44.697213: I tensorflow/compiler/mlir/tensorflow/utils/dump_mlir_util.cc:255] disabling MLIR crash reproducer, set env var `MLIR_CRASH_REPRODUCER_DIRECTORY` to enable.\n",
      "2024-05-17 00:56:45.264528: I ./tensorflow/compiler/jit/device_compiler.h:186] Compiled cluster using XLA!  This line is logged at most once for the lifetime of the process.\n"
     ]
    },
    {
     "name": "stdout",
     "output_type": "stream",
     "text": [
      "88/88 [==============================] - 167s 2s/step - loss: 0.6477 - accuracy: 0.7761 - auc: 0.9349 - precision: 0.8063 - recall: 0.7489 - true_positives: 2094.0000 - true_negatives: 7885.0000 - false_positives: 503.0000 - false_negatives: 702.0000 - val_loss: 0.2597 - val_accuracy: 0.9129 - val_auc: 0.9865 - val_precision: 0.9245 - val_recall: 0.9028 - val_true_positives: 539.0000 - val_true_negatives: 1747.0000 - val_false_positives: 44.0000 - val_false_negatives: 58.0000\n",
      "Epoch 2/20\n",
      "88/88 [==============================] - 156s 2s/step - loss: 0.2205 - accuracy: 0.9245 - auc: 0.9901 - precision: 0.9328 - recall: 0.9181 - true_positives: 2567.0000 - true_negatives: 8203.0000 - false_positives: 185.0000 - false_negatives: 229.0000 - val_loss: 0.1865 - val_accuracy: 0.9313 - val_auc: 0.9926 - val_precision: 0.9406 - val_recall: 0.9280 - val_true_positives: 554.0000 - val_true_negatives: 1756.0000 - val_false_positives: 35.0000 - val_false_negatives: 43.0000\n",
      "Epoch 3/20\n",
      "88/88 [==============================] - 155s 2s/step - loss: 0.1442 - accuracy: 0.9474 - auc: 0.9961 - precision: 0.9513 - recall: 0.9428 - true_positives: 2636.0000 - true_negatives: 8253.0000 - false_positives: 135.0000 - false_negatives: 160.0000 - val_loss: 0.1718 - val_accuracy: 0.9430 - val_auc: 0.9937 - val_precision: 0.9459 - val_recall: 0.9380 - val_true_positives: 560.0000 - val_true_negatives: 1759.0000 - val_false_positives: 32.0000 - val_false_negatives: 37.0000\n",
      "Epoch 4/20\n",
      "88/88 [==============================] - 158s 2s/step - loss: 0.0932 - accuracy: 0.9725 - auc: 0.9985 - precision: 0.9755 - recall: 0.9700 - true_positives: 2712.0000 - true_negatives: 8320.0000 - false_positives: 68.0000 - false_negatives: 84.0000 - val_loss: 0.1328 - val_accuracy: 0.9598 - val_auc: 0.9958 - val_precision: 0.9661 - val_recall: 0.9548 - val_true_positives: 570.0000 - val_true_negatives: 1771.0000 - val_false_positives: 20.0000 - val_false_negatives: 27.0000\n",
      "Epoch 5/20\n",
      "88/88 [==============================] - 158s 2s/step - loss: 0.0659 - accuracy: 0.9785 - auc: 0.9994 - precision: 0.9803 - recall: 0.9764 - true_positives: 2730.0000 - true_negatives: 8333.0000 - false_positives: 55.0000 - false_negatives: 66.0000 - val_loss: 0.1187 - val_accuracy: 0.9631 - val_auc: 0.9960 - val_precision: 0.9645 - val_recall: 0.9564 - val_true_positives: 571.0000 - val_true_negatives: 1770.0000 - val_false_positives: 21.0000 - val_false_negatives: 26.0000\n",
      "Epoch 6/20\n",
      "88/88 [==============================] - 156s 2s/step - loss: 0.0624 - accuracy: 0.9810 - auc: 0.9994 - precision: 0.9824 - recall: 0.9785 - true_positives: 2736.0000 - true_negatives: 8339.0000 - false_positives: 49.0000 - false_negatives: 60.0000 - val_loss: 0.1215 - val_accuracy: 0.9665 - val_auc: 0.9966 - val_precision: 0.9664 - val_recall: 0.9631 - val_true_positives: 575.0000 - val_true_negatives: 1771.0000 - val_false_positives: 20.0000 - val_false_negatives: 22.0000\n",
      "Epoch 7/20\n",
      "88/88 [==============================] - 157s 2s/step - loss: 0.0364 - accuracy: 0.9903 - auc: 0.9998 - precision: 0.9914 - recall: 0.9896 - true_positives: 2767.0000 - true_negatives: 8364.0000 - false_positives: 24.0000 - false_negatives: 29.0000 - val_loss: 0.1561 - val_accuracy: 0.9481 - val_auc: 0.9938 - val_precision: 0.9511 - val_recall: 0.9447 - val_true_positives: 564.0000 - val_true_negatives: 1762.0000 - val_false_positives: 29.0000 - val_false_negatives: 33.0000\n",
      "Saving model to: ./trained_models/trained_mobilenet_v2_224.keras\n"
     ]
    }
   ],
   "source": [
    "##########           Training           ##########\n",
    "\n",
    "early_stop = tf.keras.callbacks.EarlyStopping(monitor='val_accuracy', patience=3, min_delta=0.01, restore_best_weights=True)\n",
    "\n",
    "history = model.fit(train_generator,\n",
    "                    epochs=20,\n",
    "                    validation_data=validation_generator,\n",
    "                    callbacks=[early_stop]\n",
    "                   )\n",
    "\n",
    "save_path = './trained_models/'+SAVED_MODEL_NAME+'.keras'\n",
    "print('Saving model to:', save_path)\n",
    "model.save(save_path)"
   ]
  },
  {
   "cell_type": "code",
   "execution_count": 7,
   "metadata": {},
   "outputs": [
    {
     "data": {
      "text/plain": [
       "<matplotlib.legend.Legend at 0x7f60996cda10>"
      ]
     },
     "execution_count": 7,
     "metadata": {},
     "output_type": "execute_result"
    },
    {
     "data": {
      "image/png": "[encoded data removed]",
      "text/plain": [
       "<Figure size 1000x500 with 1 Axes>"
      ]
     },
     "metadata": {},
     "output_type": "display_data"
    }
   ],
   "source": [
    "# Plot training & validation accuracy and loss values in a single plot with the four metrics\n",
    "plt.figure(figsize=(10, 5))\n",
    "plt.plot(history.history['accuracy'])\n",
    "plt.plot(history.history['val_accuracy'], linestyle='dashed')\n",
    "plt.plot(history.history['loss'])\n",
    "plt.plot(history.history['val_loss'], linestyle='dashed')\n",
    "\n",
    "plt.title('Model accuracy and loss')\n",
    "plt.ylabel('Accuracy/Loss')\n",
    "plt.xlabel('Epoch')\n",
    "plt.legend(['train_accuracy', 'val_accuracy', 'train_loss', 'val_loss'], loc='best')\n",
    "\n"
   ]
  },
  {
   "cell_type": "markdown",
   "metadata": {},
   "source": [
    "# Model testing"
   ]
  },
  {
   "cell_type": "code",
   "execution_count": 8,
   "metadata": {},
   "outputs": [
    {
     "name": "stdout",
     "output_type": "stream",
     "text": [
      "19/19 [==============================] - 29s 2s/step - loss: 0.1753 - accuracy: 0.9354 - auc: 0.9941 - precision: 0.9369 - recall: 0.9338 - true_positives: 564.0000 - true_negatives: 1774.0000 - false_positives: 38.0000 - false_negatives: 40.0000\n",
      "loss :  0.17531165480613708\n",
      "accuracy :  0.9354304671287537\n",
      "auc :  0.9941132068634033\n",
      "precision :  0.9368770718574524\n",
      "recall :  0.9337748289108276\n",
      "true_positives :  564.0\n",
      "true_negatives :  1774.0\n",
      "false_positives :  38.0\n",
      "false_negatives :  40.0\n"
     ]
    }
   ],
   "source": [
    "#########           Model test           ##########\n",
    "from keras.models import load_model\n",
    "\n",
    "'''\n",
    "path = './trained_models/'+SAVED_MODEL_NAME+'.keras'\n",
    "model = load_model(path, compile=True)\n",
    "    \n",
    "val_datagen = ImageDataGenerator(preprocessing_function=preprocess_input)\n",
    "\n",
    "test_generator = val_datagen.flow_from_directory(SPLITTED_DATASET+'/test',\n",
    "                                                         batch_size=BATCH_SIZE,\n",
    "                                                         class_mode='categorical',\n",
    "                                                         shuffle=True,\n",
    "                                                         target_size=(SIZE,SIZE)\n",
    "                                                    )\n",
    "\n",
    "'''\n",
    "\n",
    "# Evaluate on Validation data\n",
    "scores = model.evaluate(test_generator)\n",
    "\n",
    "for name, value in zip(model.metrics_names, scores):\n",
    "  print(name, ': ', value)"
   ]
  },
  {
   "cell_type": "markdown",
   "metadata": {},
   "source": [
    "# Support code"
   ]
  },
  {
   "cell_type": "markdown",
   "metadata": {},
   "source": [
    "### Detect and remove corrupted images from the dataset"
   ]
  },
  {
   "cell_type": "raw",
   "metadata": {},
   "source": [
    "from PIL import Image\n",
    "import os\n",
    "import numpy as np\n",
    "\n",
    "def is_valid_image(file_path):\n",
    "    try:\n",
    "        i = Image.open(file_path)\n",
    "        valid = True\n",
    "    except:\n",
    "        valid = False\n",
    "    return valid\n",
    "\n",
    "def detect_corrupted_images(dataset_path):\n",
    "    corrupted_images = []\n",
    "    for root, dirs, files in os.walk(dataset_path):\n",
    "        for file in files:\n",
    "            file_path = os.path.join(root, file)\n",
    "            if not is_valid_image(file_path):\n",
    "                corrupted_images.append(file_path)\n",
    "    return corrupted_images\n",
    "\n",
    "\n",
    "DATASET='dataset'\n",
    "corrupted_images = detect_corrupted_images(DATASET)\n",
    "print('Number of corrupted images:', len(corrupted_images))\n",
    "print(corrupted_images)\n",
    "\n",
    "# Remove corrupted images\n",
    "for image in corrupted_images:\n",
    "    os.remove(image)\n"
   ]
  }
 ],
 "metadata": {
  "kernelspec": {
   "display_name": "Python 3",
   "language": "python",
   "name": "python3"
  },
  "language_info": {
   "codemirror_mode": {
    "name": "ipython",
    "version": 3
   },
   "file_extension": ".py",
   "mimetype": "text/x-python",
   "name": "python",
   "nbconvert_exporter": "python",
   "pygments_lexer": "ipython3",
   "version": "3.11.9"
  }
 },
 "nbformat": 4,
 "nbformat_minor": 4
}
